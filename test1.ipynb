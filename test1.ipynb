{
 "cells": [
  {
   "cell_type": "code",
   "execution_count": null,
   "metadata": {},
   "outputs": [],
   "source": [
    "import torch\n",
    "from torch import nn\n",
    "from torchvision import datasets, transforms\n",
    "from pathlib import Path\n",
    "import matplotlib.pyplot as plt"
   ]
  },
  {
   "cell_type": "code",
   "execution_count": null,
   "metadata": {},
   "outputs": [],
   "source": [
    "PATH = Path(\"./model_q1.pth\")\n",
    "\n",
    "# model=nn.Sequential(nn.Linear(784, 128),\n",
    "#                     nn.ReLU(),\n",
    "#                     nn.Linear(128,64),\n",
    "#                     nn.ReLU(),\n",
    "#                     nn.Linear(64,10),\n",
    "#                     nn.LogSoftmax(dim=1))\n",
    "\n",
    "model = torch.load(PATH)\n",
    "model.eval()\n",
    "\n",
    "transform = transforms.Compose([transforms.ToTensor(),\n",
    "                                transforms.Normalize((0.5,),(0.5,)),\n",
    "                                ])\n",
    "\n",
    "trainset = datasets.MNIST('~/.pytorch/MNIST_data',download=True,train=True,transform=transform)\n",
    "trainloader = torch.utils.data.DataLoader(trainset,batch_size=64,shuffle=True)\n",
    "\n",
    "images, labels = next(iter(trainloader))\n",
    "\n",
    "img = images[0].view(1, 784)\n",
    "\n",
    "images, labels = next(iter(trainloader))\n",
    "\n",
    "img = images[0].view(1, 784)\n",
    "# Turn off gradients to speed up this part\n",
    "with torch.no_grad():\n",
    "    logps = model(img)\n",
    "print(plt.imshow(img.resize_(1, 28, 28).numpy().squeeze()))\n",
    "# Output of the network are log-probabilities, need to take exponential for probabilities\n",
    "ps = torch.exp(logps)\n",
    "val=(ps==(torch.max(ps))).nonzero()[0,1]\n",
    "print('Number predicted:',int(val))\n",
    "ps = ps.data.numpy().squeeze()"
   ]
  }
 ],
 "metadata": {
  "kernelspec": {
   "display_name": "Python 3",
   "language": "python",
   "name": "python3"
  },
  "language_info": {
   "codemirror_mode": {
    "name": "ipython",
    "version": 3
   },
   "file_extension": ".py",
   "mimetype": "text/x-python",
   "name": "python",
   "nbconvert_exporter": "python",
   "pygments_lexer": "ipython3",
   "version": "3.7.3"
  }
 },
 "nbformat": 4,
 "nbformat_minor": 2
}
